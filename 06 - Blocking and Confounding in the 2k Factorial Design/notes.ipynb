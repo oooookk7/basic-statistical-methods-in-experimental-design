{
 "cells": [
  {
   "cell_type": "markdown",
   "id": "5a23b8c8",
   "metadata": {},
   "source": [
    "# Implement with R"
   ]
  },
  {
   "cell_type": "markdown",
   "id": "a9f2408a",
   "metadata": {},
   "source": [
    "## The Chemical Catalyst Experiment\n",
    "\n",
    "This experiment aims to give a sense of **blocking** in factorial designs.\n",
    "\n",
    "Suppose for the $n$ replicates, each set of non-homogeneous conditions logically fits into a \"block\", and each replicate is one run in one of the blocks (they are made in random order). Then we would want to implement blocking to control the variation between these \"block\"s. \n",
    "\n",
    "Consider the chemical process experiment described in previous chapter 5. If one batch of raw materials is enough for only `4` experimental trials ($A \\times B$), then `3` batches of raw material will be required to run all replicates of this design.\n",
    "\n",
    "<img src=\"Blocking.png\" width=\"400\" height=\"auto\" />\n",
    "\n",
    "(Source: [Montgomery, D. C., Custer, L. & McCarville, D. R., 2013, \\\"Design and analysis of experiments: Student solutions manual (8th ed.).\\\", Hoboken, NJ: John Wiley & Sons](https://www.amazon.com/Student-Solutions-Manual-Analysis-Experiments/dp/1118388194))\n",
    "\n",
    "\n",
    "The idea is to find if blocking does help with controlling the variation between the different batches."
   ]
  },
  {
   "cell_type": "markdown",
   "id": "103b58ba",
   "metadata": {},
   "source": [
    "Firstly, import the dataset,"
   ]
  },
  {
   "cell_type": "code",
   "execution_count": 1,
   "id": "7c6ab9bb",
   "metadata": {},
   "outputs": [],
   "source": [
    "dataset <- read.csv('chem3.csv')"
   ]
  },
  {
   "cell_type": "markdown",
   "id": "d745254f",
   "metadata": {},
   "source": [
    "Display the table to get a sense of the data"
   ]
  },
  {
   "cell_type": "code",
   "execution_count": 2,
   "id": "6acca62d",
   "metadata": {},
   "outputs": [
    {
     "name": "stderr",
     "output_type": "stream",
     "text": [
      "\n",
      "Attaching package: ‘dplyr’\n",
      "\n",
      "\n",
      "The following objects are masked from ‘package:stats’:\n",
      "\n",
      "    filter, lag\n",
      "\n",
      "\n",
      "The following objects are masked from ‘package:base’:\n",
      "\n",
      "    intersect, setdiff, setequal, union\n",
      "\n",
      "\n"
     ]
    }
   ],
   "source": [
    "library(dplyr)"
   ]
  },
  {
   "cell_type": "code",
   "execution_count": 3,
   "id": "96c23471",
   "metadata": {},
   "outputs": [
    {
     "name": "stderr",
     "output_type": "stream",
     "text": [
      "Installing package into ‘/usr/local/lib/R/4.1/site-library’\n",
      "(as ‘lib’ is unspecified)\n",
      "\n"
     ]
    }
   ],
   "source": [
    "install.packages('reshape2')"
   ]
  },
  {
   "cell_type": "code",
   "execution_count": 3,
   "id": "efaae8e7",
   "metadata": {},
   "outputs": [],
   "source": [
    "library(reshape2)"
   ]
  },
  {
   "cell_type": "code",
   "execution_count": 4,
   "id": "20785b0e",
   "metadata": {},
   "outputs": [
    {
     "name": "stderr",
     "output_type": "stream",
     "text": [
      "Using Y as value column: use value.var to override.\n",
      "\n",
      "Warning message in read.table(file = file, header = header, sep = sep, quote = quote, :\n",
      "“incomplete final line found by readTableHeader on '../2_2_vars.csv'”\n"
     ]
    },
    {
     "data": {
      "text/html": [
       "<table class=\"dataframe\">\n",
       "<caption>A data.frame: 4 × 7</caption>\n",
       "<thead>\n",
       "\t<tr><th scope=col>A</th><th scope=col>B</th><th scope=col>b1</th><th scope=col>b2</th><th scope=col>b3</th><th scope=col>Total</th><th scope=col>Treatment</th></tr>\n",
       "\t<tr><th scope=col>&lt;chr&gt;</th><th scope=col>&lt;chr&gt;</th><th scope=col>&lt;dbl&gt;</th><th scope=col>&lt;dbl&gt;</th><th scope=col>&lt;dbl&gt;</th><th scope=col>&lt;dbl&gt;</th><th scope=col>&lt;chr&gt;</th></tr>\n",
       "</thead>\n",
       "<tbody>\n",
       "\t<tr><td>H</td><td>H</td><td>31</td><td>30</td><td>29</td><td> 90</td><td>ab</td></tr>\n",
       "\t<tr><td>H</td><td>L</td><td>36</td><td>32</td><td>32</td><td>100</td><td>a </td></tr>\n",
       "\t<tr><td>L</td><td>H</td><td>18</td><td>19</td><td>23</td><td> 60</td><td>b </td></tr>\n",
       "\t<tr><td>L</td><td>L</td><td>28</td><td>25</td><td>27</td><td> 80</td><td>1 </td></tr>\n",
       "</tbody>\n",
       "</table>\n"
      ],
      "text/latex": [
       "A data.frame: 4 × 7\n",
       "\\begin{tabular}{lllllll}\n",
       " A & B & b1 & b2 & b3 & Total & Treatment\\\\\n",
       " <chr> & <chr> & <dbl> & <dbl> & <dbl> & <dbl> & <chr>\\\\\n",
       "\\hline\n",
       "\t H & H & 31 & 30 & 29 &  90 & ab\\\\\n",
       "\t H & L & 36 & 32 & 32 & 100 & a \\\\\n",
       "\t L & H & 18 & 19 & 23 &  60 & b \\\\\n",
       "\t L & L & 28 & 25 & 27 &  80 & 1 \\\\\n",
       "\\end{tabular}\n"
      ],
      "text/markdown": [
       "\n",
       "A data.frame: 4 × 7\n",
       "\n",
       "| A &lt;chr&gt; | B &lt;chr&gt; | b1 &lt;dbl&gt; | b2 &lt;dbl&gt; | b3 &lt;dbl&gt; | Total &lt;dbl&gt; | Treatment &lt;chr&gt; |\n",
       "|---|---|---|---|---|---|---|\n",
       "| H | H | 31 | 30 | 29 |  90 | ab |\n",
       "| H | L | 36 | 32 | 32 | 100 | a  |\n",
       "| L | H | 18 | 19 | 23 |  60 | b  |\n",
       "| L | L | 28 | 25 | 27 |  80 | 1  |\n",
       "\n"
      ],
      "text/plain": [
       "  A B b1 b2 b3 Total Treatment\n",
       "1 H H 31 30 29  90   ab       \n",
       "2 H L 36 32 32 100   a        \n",
       "3 L H 18 19 23  60   b        \n",
       "4 L L 28 25 27  80   1        "
      ]
     },
     "metadata": {},
     "output_type": "display_data"
    }
   ],
   "source": [
    "dataset_tbl <- dataset %>% group_by(A, B, Block) %>% arrange(desc(A), desc(B), Block)\n",
    "dataset_tbl <- dcast(dataset_tbl,A+B~Block, fill=0)\n",
    "dataset_tbl$Total <- dataset_tbl$b1 + dataset_tbl$b2 + dataset_tbl$b3\n",
    "dataset_tbl <- merge(dataset_tbl, read.csv('../2_2_vars.csv'))\n",
    "dataset_tbl"
   ]
  },
  {
   "cell_type": "code",
   "execution_count": 6,
   "id": "f56dca1f",
   "metadata": {},
   "outputs": [
    {
     "data": {
      "text/html": [
       "<table class=\"dataframe\">\n",
       "<caption>A matrix: 2 × 3 of type chr</caption>\n",
       "<tbody>\n",
       "\t<tr><th scope=row>Block</th><td>b1 </td><td>b2 </td><td>b3 </td></tr>\n",
       "\t<tr><th scope=row>Total</th><td>113</td><td>106</td><td>111</td></tr>\n",
       "</tbody>\n",
       "</table>\n"
      ],
      "text/latex": [
       "A matrix: 2 × 3 of type chr\n",
       "\\begin{tabular}{r|lll}\n",
       "\tBlock & b1  & b2  & b3 \\\\\n",
       "\tTotal & 113 & 106 & 111\\\\\n",
       "\\end{tabular}\n"
      ],
      "text/markdown": [
       "\n",
       "A matrix: 2 × 3 of type chr\n",
       "\n",
       "| Block | b1  | b2  | b3  |\n",
       "| Total | 113 | 106 | 111 |\n",
       "\n"
      ],
      "text/plain": [
       "      [,1] [,2] [,3]\n",
       "Block b1   b2   b3  \n",
       "Total 113  106  111 "
      ]
     },
     "metadata": {},
     "output_type": "display_data"
    }
   ],
   "source": [
    "t(dataset %>% group_by(Block) %>% summarise(Total=sum(Y)))"
   ]
  },
  {
   "cell_type": "code",
   "execution_count": 7,
   "id": "c4fd728b",
   "metadata": {},
   "outputs": [
    {
     "data": {
      "text/html": [
       "330"
      ],
      "text/latex": [
       "330"
      ],
      "text/markdown": [
       "330"
      ],
      "text/plain": [
       "[1] 330"
      ]
     },
     "metadata": {},
     "output_type": "display_data"
    }
   ],
   "source": [
    "sum(dataset$Y)"
   ]
  },
  {
   "cell_type": "markdown",
   "id": "ec431bb0",
   "metadata": {},
   "source": [
    "Using ANOVA with blocking,"
   ]
  },
  {
   "cell_type": "code",
   "execution_count": 8,
   "id": "e5e5e7d0",
   "metadata": {},
   "outputs": [
    {
     "data": {
      "text/plain": [
       "            Df Sum Sq Mean Sq F value   Pr(>F)    \n",
       "A            1 208.33  208.33  50.336 0.000394 ***\n",
       "B            1  75.00   75.00  18.121 0.005340 ** \n",
       "Block        2   6.50    3.25   0.785 0.497835    \n",
       "A:B          1   8.33    8.33   2.013 0.205710    \n",
       "Residuals    6  24.83    4.14                     \n",
       "---\n",
       "Signif. codes:  0 ‘***’ 0.001 ‘**’ 0.01 ‘*’ 0.05 ‘.’ 0.1 ‘ ’ 1"
      ]
     },
     "metadata": {},
     "output_type": "display_data"
    }
   ],
   "source": [
    "anova <- aov(Y ~ A * B + Block, data=dataset)\n",
    "summary(anova)"
   ]
  },
  {
   "cell_type": "markdown",
   "id": "b7ca390d",
   "metadata": {},
   "source": [
    "Because the block p-value is greater than `0.05` (alpha level), there is not significance effect based on the batches (similar to previous design without blocking)."
   ]
  },
  {
   "cell_type": "markdown",
   "id": "577c21a6",
   "metadata": {},
   "source": [
    "## 2-Blocks Confounding Experiment\n",
    "\n",
    "This experiment aims to give a sense of **confounding** in $2^2$ factorial designs.\n",
    "\n",
    "In many situations, it is usually infeasible to perform a complete replicate of a factorial design in one block. Hence, confounding is a design technique for arranging a complete factorial experiment in blocks, where the block size is smaller than the number of treatment combinations in one replicate. This causes information about certain treatment effects (usually high order interactions) to be indistinguishable from, or confounded with, blocks.\n",
    "\n",
    "For example,\n",
    "\n",
    "<img src=\"Confounding-1.png\" width=\"300\" height=\"auto\" />\n",
    "\n",
    "(Source: Chew Chee Hua. \"Basic Statistical Methods in Experimental Design\")"
   ]
  },
  {
   "cell_type": "markdown",
   "id": "733b9078",
   "metadata": {},
   "source": [
    "Firstly, import the dataset,"
   ]
  },
  {
   "cell_type": "code",
   "execution_count": 6,
   "id": "24e3daba",
   "metadata": {},
   "outputs": [],
   "source": [
    "dataset <- read.csv('twoblocks.csv')"
   ]
  },
  {
   "cell_type": "markdown",
   "id": "56892b09",
   "metadata": {},
   "source": [
    "Display the table to get the sense of the data,"
   ]
  },
  {
   "cell_type": "code",
   "execution_count": 7,
   "id": "b55d993b",
   "metadata": {
    "scrolled": true
   },
   "outputs": [
    {
     "name": "stderr",
     "output_type": "stream",
     "text": [
      "`summarise()` has grouped output by 'A'. You can override using the `.groups` argument.\n",
      "\n",
      "Warning message in read.table(file = file, header = header, sep = sep, quote = quote, :\n",
      "“incomplete final line found by readTableHeader on '../2_2_vars.csv'”\n"
     ]
    },
    {
     "data": {
      "text/html": [
       "<table class=\"dataframe\">\n",
       "<caption>A data.frame: 4 × 7</caption>\n",
       "<thead>\n",
       "\t<tr><th scope=col>A</th><th scope=col>B</th><th scope=col>s1</th><th scope=col>s2</th><th scope=col>s3</th><th scope=col>Y</th><th scope=col>Treatment</th></tr>\n",
       "\t<tr><th scope=col>&lt;chr&gt;</th><th scope=col>&lt;chr&gt;</th><th scope=col>&lt;chr&gt;</th><th scope=col>&lt;chr&gt;</th><th scope=col>&lt;chr&gt;</th><th scope=col>&lt;dbl&gt;</th><th scope=col>&lt;chr&gt;</th></tr>\n",
       "</thead>\n",
       "<tbody>\n",
       "\t<tr><td>H</td><td>H</td><td>b2</td><td>b2</td><td>b2</td><td>90.9</td><td>ab</td></tr>\n",
       "\t<tr><td>H</td><td>L</td><td>b1</td><td>b2</td><td>b1</td><td>90.1</td><td>a </td></tr>\n",
       "\t<tr><td>L</td><td>H</td><td>b2</td><td>b1</td><td>b1</td><td>90.2</td><td>b </td></tr>\n",
       "\t<tr><td>L</td><td>L</td><td>b1</td><td>b1</td><td>b2</td><td>90.4</td><td>1 </td></tr>\n",
       "</tbody>\n",
       "</table>\n"
      ],
      "text/latex": [
       "A data.frame: 4 × 7\n",
       "\\begin{tabular}{lllllll}\n",
       " A & B & s1 & s2 & s3 & Y & Treatment\\\\\n",
       " <chr> & <chr> & <chr> & <chr> & <chr> & <dbl> & <chr>\\\\\n",
       "\\hline\n",
       "\t H & H & b2 & b2 & b2 & 90.9 & ab\\\\\n",
       "\t H & L & b1 & b2 & b1 & 90.1 & a \\\\\n",
       "\t L & H & b2 & b1 & b1 & 90.2 & b \\\\\n",
       "\t L & L & b1 & b1 & b2 & 90.4 & 1 \\\\\n",
       "\\end{tabular}\n"
      ],
      "text/markdown": [
       "\n",
       "A data.frame: 4 × 7\n",
       "\n",
       "| A &lt;chr&gt; | B &lt;chr&gt; | s1 &lt;chr&gt; | s2 &lt;chr&gt; | s3 &lt;chr&gt; | Y &lt;dbl&gt; | Treatment &lt;chr&gt; |\n",
       "|---|---|---|---|---|---|---|\n",
       "| H | H | b2 | b2 | b2 | 90.9 | ab |\n",
       "| H | L | b1 | b2 | b1 | 90.1 | a  |\n",
       "| L | H | b2 | b1 | b1 | 90.2 | b  |\n",
       "| L | L | b1 | b1 | b2 | 90.4 | 1  |\n",
       "\n"
      ],
      "text/plain": [
       "  A B s1 s2 s3 Y    Treatment\n",
       "1 H H b2 b2 b2 90.9 ab       \n",
       "2 H L b1 b2 b1 90.1 a        \n",
       "3 L H b2 b1 b1 90.2 b        \n",
       "4 L L b1 b1 b2 90.4 1        "
      ]
     },
     "metadata": {},
     "output_type": "display_data"
    }
   ],
   "source": [
    "dataset_tbl <- dataset %>% group_by(A, B) %>% arrange(desc(A), desc(B))\n",
    "dataset_tbl.Y <- dataset_tbl %>% summarise(Y=sum(Y))\n",
    "dataset_tbl <- dcast(dataset_tbl, A+B~Scheme, fill=0, value.var=\"Block\")\n",
    "dataset_tbl$Y <- dataset_tbl.Y$Y\n",
    "dataset_tbl <- merge(dataset_tbl, read.csv('../2_2_vars.csv'))\n",
    "dataset_tbl"
   ]
  },
  {
   "cell_type": "markdown",
   "id": "98302cf0",
   "metadata": {},
   "source": [
    "Calculating the scheme 1 for block effect $b$,\n",
    "\n",
    "$b = \\frac{1}{2}(b_2 - b_1)$\n",
    "\n",
    "$b = \\frac{1}{2}(ab + b - a - 1)$"
   ]
  },
  {
   "cell_type": "code",
   "execution_count": 14,
   "id": "200d6c67",
   "metadata": {},
   "outputs": [],
   "source": [
    "sumOfYTreatments <- function(vars) { sum(dataset_tbl[dataset_tbl$Treatment %in% vars,]$Y) }"
   ]
  },
  {
   "cell_type": "code",
   "execution_count": 16,
   "id": "296b3d9c",
   "metadata": {},
   "outputs": [
    {
     "data": {
      "text/html": [
       "0.300000000000011"
      ],
      "text/latex": [
       "0.300000000000011"
      ],
      "text/markdown": [
       "0.300000000000011"
      ],
      "text/plain": [
       "[1] 0.3"
      ]
     },
     "metadata": {},
     "output_type": "display_data"
    }
   ],
   "source": [
    "sumOfYTreatments(c('b', 'ab')) / 2 - sumOfYTreatments(c('a', '1')) / 2"
   ]
  },
  {
   "cell_type": "markdown",
   "id": "1a980962",
   "metadata": {},
   "source": [
    "Calculating the scheme 2 for block effect $b$,\n",
    "\n",
    "$b = \\frac{1}{2}(ab + a - b - 1)$"
   ]
  },
  {
   "cell_type": "code",
   "execution_count": 17,
   "id": "997842ae",
   "metadata": {},
   "outputs": [
    {
     "data": {
      "text/html": [
       "0.199999999999989"
      ],
      "text/latex": [
       "0.199999999999989"
      ],
      "text/markdown": [
       "0.199999999999989"
      ],
      "text/plain": [
       "[1] 0.2"
      ]
     },
     "metadata": {},
     "output_type": "display_data"
    }
   ],
   "source": [
    "sumOfYTreatments(c('a', 'ab')) / 2 - sumOfYTreatments(c('b', '1')) / 2"
   ]
  },
  {
   "cell_type": "markdown",
   "id": "acda9053",
   "metadata": {},
   "source": [
    "Calculating the scheme 3 for block effect $b$,\n",
    "\n",
    "$b = \\frac{1}{2}(ab + 1 - b - a)$"
   ]
  },
  {
   "cell_type": "code",
   "execution_count": 18,
   "id": "f2b64cb1",
   "metadata": {
    "scrolled": true
   },
   "outputs": [
    {
     "data": {
      "text/html": [
       "0.5"
      ],
      "text/latex": [
       "0.5"
      ],
      "text/markdown": [
       "0.5"
      ],
      "text/plain": [
       "[1] 0.5"
      ]
     },
     "metadata": {},
     "output_type": "display_data"
    }
   ],
   "source": [
    "sumOfYTreatments(c('ab', '1')) / 2 - sumOfYTreatments(c('a', 'b')) / 2"
   ]
  },
  {
   "cell_type": "markdown",
   "id": "739acb61",
   "metadata": {},
   "source": [
    "Calculating the effects of $A$,\n",
    "\n",
    "$A = \\frac{1}{2}(ab + a - b - 1)$\n",
    "\n",
    "This results in the same effect as blocking scheme 2. $A$ and $b$ are not distinguishable or confounded."
   ]
  },
  {
   "cell_type": "markdown",
   "id": "c79f1eed",
   "metadata": {},
   "source": [
    "Calculating the effects of $B$,\n",
    "\n",
    "$B = \\frac{1}{2}(ab + b - a - 1)$\n",
    "\n",
    "This results in the same effect as blocking scheme 1. $B$ and $b$ are not distinguishable or confounded."
   ]
  },
  {
   "cell_type": "markdown",
   "id": "de2951ed",
   "metadata": {},
   "source": [
    "Calculating the interaction effects of $AB$,\n",
    "\n",
    "$AB = \\frac{1}{2}(ab + 1 - a - b)$\n",
    "\n",
    "This results in the same effect as blocking scheme 3. $AB$ and $b$ are not distinguishable or confounded."
   ]
  },
  {
   "cell_type": "markdown",
   "id": "e669f0fa",
   "metadata": {},
   "source": [
    "The confounding is caused by the block arrangement matching the contrast of some factorial effect, and depending on the scheme chosen, confounding made the effect inestimable.\n",
    "\n",
    "<img src=\"Confounding-0.png\" width=\"400\" height=\"auto\" />\n",
    "\n",
    "(Source: [Montgomery, D. C., Custer, L. & McCarville, D. R., 2013, \\\"Design and analysis of experiments: Student solutions manual (8th ed.).\\\", Hoboken, NJ: John Wiley & Sons](https://www.amazon.com/Student-Solutions-Manual-Analysis-Experiments/dp/1118388194))\n",
    "\n",
    "The best scheme would be scheme 3. The standard practice is to confound the highest order interaction with blocks as it is relatively least likely to have an effect, hence the choice. "
   ]
  },
  {
   "cell_type": "markdown",
   "id": "a963adc1",
   "metadata": {},
   "source": [
    "## The Filtration Rate Experiment\n",
    "\n",
    "This experiment aims to give a sense of **confounding** in  $2^4$ factorial designs.\n",
    "\n",
    "Reconsider the filtration rate experiment described in previous chapter 5. Recall the 4 factors - temperature (**A**), pressure (**B**), concentration of formaldehyde (**C**) and stirring rate (**D**) are studied in a new plant to determine their effect on filtration rate.\n",
    "\n",
    "We introduce a block effect so that the utility of blocking can be shown. Suppose that when we select the two batches of raw material required to run the expt, one of them is of much poorer quality level and, as a result, all responses will be, for the sake of convenience, `20` units lower in this material batch than in the other (e.g., notice for batch 1, **(1)** is `25` instead of `45` from the original experiment). The poor quality batch becomes block 1 and the good quality batch becomes block 2 (actually, it does not matter which batch is called block 1 or which batch is called block 2, as they are just labels). Again, the eight runs within the block are, of course, performed in random order.\n",
    "\n",
    "Given that all the treatment combinations cannot be run using a batch of raw material, and the experimenter can only run `8` treatment combinations from a single batch of material, the design is confounded in two blocks appropriate in this case.\n",
    "\n",
    "<img src=\"Confounding.png\" width=\"450\" height=\"auto\" />\n",
    "\n",
    "(Source: [Montgomery, D. C., Custer, L. & McCarville, D. R., 2013, \\\"Design and analysis of experiments: Student solutions manual (8th ed.).\\\", Hoboken, NJ: John Wiley & Sons](https://www.amazon.com/Student-Solutions-Manual-Analysis-Experiments/dp/1118388194))"
   ]
  },
  {
   "cell_type": "markdown",
   "id": "f515b8d0",
   "metadata": {},
   "source": [
    "Firstly, import dataset,"
   ]
  },
  {
   "cell_type": "code",
   "execution_count": 14,
   "id": "6bc6876c",
   "metadata": {},
   "outputs": [],
   "source": [
    "dataset <- read.csv('filtration.csv')"
   ]
  },
  {
   "cell_type": "markdown",
   "id": "3b14f372",
   "metadata": {},
   "source": [
    "Display the table to get a sense of the data"
   ]
  },
  {
   "cell_type": "code",
   "execution_count": 15,
   "id": "4bff9f39",
   "metadata": {
    "scrolled": false
   },
   "outputs": [
    {
     "data": {
      "text/html": [
       "<table class=\"dataframe\">\n",
       "<caption>A data.frame: 16 × 6</caption>\n",
       "<thead>\n",
       "\t<tr><th scope=col>A</th><th scope=col>B</th><th scope=col>C</th><th scope=col>D</th><th scope=col>Block</th><th scope=col>Y</th></tr>\n",
       "\t<tr><th scope=col>&lt;chr&gt;</th><th scope=col>&lt;chr&gt;</th><th scope=col>&lt;chr&gt;</th><th scope=col>&lt;chr&gt;</th><th scope=col>&lt;chr&gt;</th><th scope=col>&lt;int&gt;</th></tr>\n",
       "</thead>\n",
       "<tbody>\n",
       "\t<tr><td>L</td><td>L</td><td>L</td><td>L</td><td>b1</td><td> 25</td></tr>\n",
       "\t<tr><td>L</td><td>L</td><td>H</td><td>H</td><td>b1</td><td> 55</td></tr>\n",
       "\t<tr><td>L</td><td>H</td><td>L</td><td>H</td><td>b1</td><td> 25</td></tr>\n",
       "\t<tr><td>L</td><td>H</td><td>H</td><td>L</td><td>b1</td><td> 60</td></tr>\n",
       "\t<tr><td>H</td><td>L</td><td>L</td><td>H</td><td>b1</td><td> 80</td></tr>\n",
       "\t<tr><td>H</td><td>L</td><td>H</td><td>L</td><td>b1</td><td> 40</td></tr>\n",
       "\t<tr><td>H</td><td>H</td><td>L</td><td>L</td><td>b1</td><td> 45</td></tr>\n",
       "\t<tr><td>H</td><td>H</td><td>H</td><td>H</td><td>b1</td><td> 76</td></tr>\n",
       "\t<tr><td>L</td><td>L</td><td>L</td><td>H</td><td>b2</td><td> 43</td></tr>\n",
       "\t<tr><td>L</td><td>L</td><td>H</td><td>L</td><td>b2</td><td> 68</td></tr>\n",
       "\t<tr><td>L</td><td>H</td><td>L</td><td>L</td><td>b2</td><td> 48</td></tr>\n",
       "\t<tr><td>L</td><td>H</td><td>H</td><td>H</td><td>b2</td><td> 70</td></tr>\n",
       "\t<tr><td>H</td><td>L</td><td>L</td><td>L</td><td>b2</td><td> 71</td></tr>\n",
       "\t<tr><td>H</td><td>L</td><td>H</td><td>H</td><td>b2</td><td> 86</td></tr>\n",
       "\t<tr><td>H</td><td>H</td><td>L</td><td>H</td><td>b2</td><td>104</td></tr>\n",
       "\t<tr><td>H</td><td>H</td><td>H</td><td>L</td><td>b2</td><td> 65</td></tr>\n",
       "</tbody>\n",
       "</table>\n"
      ],
      "text/latex": [
       "A data.frame: 16 × 6\n",
       "\\begin{tabular}{llllll}\n",
       " A & B & C & D & Block & Y\\\\\n",
       " <chr> & <chr> & <chr> & <chr> & <chr> & <int>\\\\\n",
       "\\hline\n",
       "\t L & L & L & L & b1 &  25\\\\\n",
       "\t L & L & H & H & b1 &  55\\\\\n",
       "\t L & H & L & H & b1 &  25\\\\\n",
       "\t L & H & H & L & b1 &  60\\\\\n",
       "\t H & L & L & H & b1 &  80\\\\\n",
       "\t H & L & H & L & b1 &  40\\\\\n",
       "\t H & H & L & L & b1 &  45\\\\\n",
       "\t H & H & H & H & b1 &  76\\\\\n",
       "\t L & L & L & H & b2 &  43\\\\\n",
       "\t L & L & H & L & b2 &  68\\\\\n",
       "\t L & H & L & L & b2 &  48\\\\\n",
       "\t L & H & H & H & b2 &  70\\\\\n",
       "\t H & L & L & L & b2 &  71\\\\\n",
       "\t H & L & H & H & b2 &  86\\\\\n",
       "\t H & H & L & H & b2 & 104\\\\\n",
       "\t H & H & H & L & b2 &  65\\\\\n",
       "\\end{tabular}\n"
      ],
      "text/markdown": [
       "\n",
       "A data.frame: 16 × 6\n",
       "\n",
       "| A &lt;chr&gt; | B &lt;chr&gt; | C &lt;chr&gt; | D &lt;chr&gt; | Block &lt;chr&gt; | Y &lt;int&gt; |\n",
       "|---|---|---|---|---|---|\n",
       "| L | L | L | L | b1 |  25 |\n",
       "| L | L | H | H | b1 |  55 |\n",
       "| L | H | L | H | b1 |  25 |\n",
       "| L | H | H | L | b1 |  60 |\n",
       "| H | L | L | H | b1 |  80 |\n",
       "| H | L | H | L | b1 |  40 |\n",
       "| H | H | L | L | b1 |  45 |\n",
       "| H | H | H | H | b1 |  76 |\n",
       "| L | L | L | H | b2 |  43 |\n",
       "| L | L | H | L | b2 |  68 |\n",
       "| L | H | L | L | b2 |  48 |\n",
       "| L | H | H | H | b2 |  70 |\n",
       "| H | L | L | L | b2 |  71 |\n",
       "| H | L | H | H | b2 |  86 |\n",
       "| H | H | L | H | b2 | 104 |\n",
       "| H | H | H | L | b2 |  65 |\n",
       "\n"
      ],
      "text/plain": [
       "   A B C D Block Y  \n",
       "1  L L L L b1     25\n",
       "2  L L H H b1     55\n",
       "3  L H L H b1     25\n",
       "4  L H H L b1     60\n",
       "5  H L L H b1     80\n",
       "6  H L H L b1     40\n",
       "7  H H L L b1     45\n",
       "8  H H H H b1     76\n",
       "9  L L L H b2     43\n",
       "10 L L H L b2     68\n",
       "11 L H L L b2     48\n",
       "12 L H H H b2     70\n",
       "13 H L L L b2     71\n",
       "14 H L H H b2     86\n",
       "15 H H L H b2    104\n",
       "16 H H H L b2     65"
      ]
     },
     "metadata": {},
     "output_type": "display_data"
    }
   ],
   "source": [
    "dataset %>% arrange(Block, desc(A), desc(B), desc(C), desc(D))"
   ]
  },
  {
   "cell_type": "code",
   "execution_count": 16,
   "id": "5ae12880",
   "metadata": {
    "scrolled": true
   },
   "outputs": [
    {
     "data": {
      "text/html": [
       "<table class=\"dataframe\">\n",
       "<caption>A tibble: 2 × 2</caption>\n",
       "<thead>\n",
       "\t<tr><th scope=col>Block</th><th scope=col>Total</th></tr>\n",
       "\t<tr><th scope=col>&lt;chr&gt;</th><th scope=col>&lt;int&gt;</th></tr>\n",
       "</thead>\n",
       "<tbody>\n",
       "\t<tr><td>b1</td><td>406</td></tr>\n",
       "\t<tr><td>b2</td><td>555</td></tr>\n",
       "</tbody>\n",
       "</table>\n"
      ],
      "text/latex": [
       "A tibble: 2 × 2\n",
       "\\begin{tabular}{ll}\n",
       " Block & Total\\\\\n",
       " <chr> & <int>\\\\\n",
       "\\hline\n",
       "\t b1 & 406\\\\\n",
       "\t b2 & 555\\\\\n",
       "\\end{tabular}\n"
      ],
      "text/markdown": [
       "\n",
       "A tibble: 2 × 2\n",
       "\n",
       "| Block &lt;chr&gt; | Total &lt;int&gt; |\n",
       "|---|---|\n",
       "| b1 | 406 |\n",
       "| b2 | 555 |\n",
       "\n"
      ],
      "text/plain": [
       "  Block Total\n",
       "1 b1    406  \n",
       "2 b2    555  "
      ]
     },
     "metadata": {},
     "output_type": "display_data"
    }
   ],
   "source": [
    "dataset %>% group_by(Block) %>% summarise(Total=sum(Y))"
   ]
  },
  {
   "cell_type": "markdown",
   "id": "d254c517",
   "metadata": {},
   "source": [
    "The block effect is calculated as such where $b_2 - b_1$,"
   ]
  },
  {
   "cell_type": "code",
   "execution_count": 17,
   "id": "1d5430b0",
   "metadata": {},
   "outputs": [
    {
     "data": {
      "text/html": [
       "18.625"
      ],
      "text/latex": [
       "18.625"
      ],
      "text/markdown": [
       "18.625"
      ],
      "text/plain": [
       "[1] 18.625"
      ]
     },
     "metadata": {},
     "output_type": "display_data"
    }
   ],
   "source": [
    "b1 <- (dataset %>% filter(Block == \"b1\"))$Y\n",
    "b2 <- (dataset %>% filter(Block == \"b2\"))$Y\n",
    "\n",
    "sum(b2) / length(b2) - sum(b1) / length(b1)"
   ]
  },
  {
   "cell_type": "markdown",
   "id": "002bd0f8",
   "metadata": {},
   "source": [
    "Or calculated as $b_1 - b_2$, which is similar to the effect of $ABCD$,"
   ]
  },
  {
   "cell_type": "code",
   "execution_count": 18,
   "id": "5fc55149",
   "metadata": {},
   "outputs": [
    {
     "data": {
      "text/html": [
       "-18.625"
      ],
      "text/latex": [
       "-18.625"
      ],
      "text/markdown": [
       "-18.625"
      ],
      "text/plain": [
       "[1] -18.625"
      ]
     },
     "metadata": {},
     "output_type": "display_data"
    }
   ],
   "source": [
    "sum(b1) / length(b1) - sum(b2) / length(b2)"
   ]
  },
  {
   "cell_type": "markdown",
   "id": "4140da7a",
   "metadata": {},
   "source": [
    "In the previous experiment, the interaction effect $ABCD = 1.375$, and in the present example, the estimate is $ABCD = -18.625$. This can be calculated using $1.375 - 20 = -18.625$ (aka deducting the effect from a different batch), \n",
    "\n",
    "In this case, we ignore the higher-order interaction and confound the highest order interaction ABCD with two blocks as shown here as it is the most appropriate for the $2^4$ design."
   ]
  },
  {
   "cell_type": "markdown",
   "id": "dd2a2a41",
   "metadata": {},
   "source": [
    "## The Plasma Etching Experiment\n",
    "\n",
    "This experiment aims to give a sense of **partial confounding** in  $2^3$ factorial designs.\n",
    "\n",
    "Consider an experiment to optimise a plasma etching process, and there are 3 variables (**A**) gap, (**B**) gas flow, and (**C**) RF power, and the response variable is the etch rate. \n",
    "\n",
    "Suppose that only `4` treatment combinations can be tested during a shift timing, and because there could be shift-to-shift differences in etching tool performance, the experimenters decide to use shifts as a blocking variable. Thus, each replicate of the `23` design has to be run in `2` blocks.\n",
    "\n",
    "The data are as follows:\n",
    "\n",
    "<img src=\"PartialConfounding.png\" width=\"400\" height=\"auto\" />\n",
    "\n",
    "(Source: [Montgomery, D. C., Custer, L. & McCarville, D. R., 2013, \\\"Design and analysis of experiments: Student solutions manual (8th ed.).\\\", Hoboken, NJ: John Wiley & Sons](https://www.amazon.com/Student-Solutions-Manual-Analysis-Experiments/dp/1118388194))\n",
    "\n",
    "Unless there is a prior estimate of error, or assumption of certain interactions to be negligible, we have to replicate the design to obtain an estimate of error. The previous examples are complete confounding design as certain interactions effects are completely confounded by the blocks.\n",
    "\n",
    "If there are `4` of this design, different interaction is confounded in each replicate. For example, $ABC$ in replicate 1, $AB$ in replicate 2, $BC$ in replicate 3, $AC$ in replicate 4. As a result, information on $ABC$ can be obtained from the data not confounded in replicates 2, 3 and 4. Thus, `3/4` of information can be obtained on the interactions because they are unconfounded in `3/4` replicates."
   ]
  },
  {
   "cell_type": "markdown",
   "id": "c3175d2b",
   "metadata": {},
   "source": [
    "Firstly, import dataset,"
   ]
  },
  {
   "cell_type": "code",
   "execution_count": 19,
   "id": "aa27e33e",
   "metadata": {},
   "outputs": [],
   "source": [
    "dataset <- read.csv('etch.csv')"
   ]
  },
  {
   "cell_type": "code",
   "execution_count": 20,
   "id": "928d5b6a",
   "metadata": {},
   "outputs": [],
   "source": [
    "dataset$A <- factor(dataset$A)\n",
    "dataset$B <- factor(dataset$B)\n",
    "dataset$C <- factor(dataset$C)\n",
    "dataset$Replicate <- factor(dataset$Replicate)\n",
    "dataset$Block <- factor(dataset$Block)"
   ]
  },
  {
   "cell_type": "code",
   "execution_count": 21,
   "id": "0e93915d",
   "metadata": {
    "scrolled": false
   },
   "outputs": [
    {
     "data": {
      "text/html": [
       "<table class=\"dataframe\">\n",
       "<caption>A data.frame: 8 × 6</caption>\n",
       "<thead>\n",
       "\t<tr><th scope=col>A</th><th scope=col>B</th><th scope=col>C</th><th scope=col>r1</th><th scope=col>r2</th><th scope=col>Treatment</th></tr>\n",
       "\t<tr><th scope=col>&lt;fct&gt;</th><th scope=col>&lt;fct&gt;</th><th scope=col>&lt;fct&gt;</th><th scope=col>&lt;chr&gt;</th><th scope=col>&lt;chr&gt;</th><th scope=col>&lt;chr&gt;</th></tr>\n",
       "</thead>\n",
       "<tbody>\n",
       "\t<tr><td>H</td><td>H</td><td>H</td><td>b2 = 729 </td><td>b1 = 860 </td><td>abc</td></tr>\n",
       "\t<tr><td>H</td><td>H</td><td>L</td><td>b1 = 642 </td><td>b1 = 635 </td><td>ab </td></tr>\n",
       "\t<tr><td>H</td><td>L</td><td>H</td><td>b1 = 749 </td><td>b2 = 868 </td><td>ac </td></tr>\n",
       "\t<tr><td>H</td><td>L</td><td>L</td><td>b2 = 669 </td><td>b2 = 650 </td><td>a  </td></tr>\n",
       "\t<tr><td>L</td><td>H</td><td>H</td><td>b1 = 1075</td><td>b2 = 1063</td><td>bc </td></tr>\n",
       "\t<tr><td>L</td><td>H</td><td>L</td><td>b2 = 633 </td><td>b2 = 601 </td><td>b  </td></tr>\n",
       "\t<tr><td>L</td><td>L</td><td>H</td><td>b2 = 1037</td><td>b1 = 1052</td><td>c  </td></tr>\n",
       "\t<tr><td>L</td><td>L</td><td>L</td><td>b1 = 550 </td><td>b1 = 604 </td><td>1  </td></tr>\n",
       "</tbody>\n",
       "</table>\n"
      ],
      "text/latex": [
       "A data.frame: 8 × 6\n",
       "\\begin{tabular}{llllll}\n",
       " A & B & C & r1 & r2 & Treatment\\\\\n",
       " <fct> & <fct> & <fct> & <chr> & <chr> & <chr>\\\\\n",
       "\\hline\n",
       "\t H & H & H & b2 = 729  & b1 = 860  & abc\\\\\n",
       "\t H & H & L & b1 = 642  & b1 = 635  & ab \\\\\n",
       "\t H & L & H & b1 = 749  & b2 = 868  & ac \\\\\n",
       "\t H & L & L & b2 = 669  & b2 = 650  & a  \\\\\n",
       "\t L & H & H & b1 = 1075 & b2 = 1063 & bc \\\\\n",
       "\t L & H & L & b2 = 633  & b2 = 601  & b  \\\\\n",
       "\t L & L & H & b2 = 1037 & b1 = 1052 & c  \\\\\n",
       "\t L & L & L & b1 = 550  & b1 = 604  & 1  \\\\\n",
       "\\end{tabular}\n"
      ],
      "text/markdown": [
       "\n",
       "A data.frame: 8 × 6\n",
       "\n",
       "| A &lt;fct&gt; | B &lt;fct&gt; | C &lt;fct&gt; | r1 &lt;chr&gt; | r2 &lt;chr&gt; | Treatment &lt;chr&gt; |\n",
       "|---|---|---|---|---|---|\n",
       "| H | H | H | b2 = 729  | b1 = 860  | abc |\n",
       "| H | H | L | b1 = 642  | b1 = 635  | ab  |\n",
       "| H | L | H | b1 = 749  | b2 = 868  | ac  |\n",
       "| H | L | L | b2 = 669  | b2 = 650  | a   |\n",
       "| L | H | H | b1 = 1075 | b2 = 1063 | bc  |\n",
       "| L | H | L | b2 = 633  | b2 = 601  | b   |\n",
       "| L | L | H | b2 = 1037 | b1 = 1052 | c   |\n",
       "| L | L | L | b1 = 550  | b1 = 604  | 1   |\n",
       "\n"
      ],
      "text/plain": [
       "  A B C r1        r2        Treatment\n",
       "1 H H H b2 = 729  b1 = 860  abc      \n",
       "2 H H L b1 = 642  b1 = 635  ab       \n",
       "3 H L H b1 = 749  b2 = 868  ac       \n",
       "4 H L L b2 = 669  b2 = 650  a        \n",
       "5 L H H b1 = 1075 b2 = 1063 bc       \n",
       "6 L H L b2 = 633  b2 = 601  b        \n",
       "7 L L H b2 = 1037 b1 = 1052 c        \n",
       "8 L L L b1 = 550  b1 = 604  1        "
      ]
     },
     "metadata": {},
     "output_type": "display_data"
    }
   ],
   "source": [
    "dataset_tbl <- dataset %>% group_by(A, B, C) %>% arrange(desc(A), desc(B), desc(C))\n",
    "dataset_tbl$Block.Y <- paste(dataset_tbl$Block, dataset_tbl$Y, sep=\" = \")\n",
    "dataset_tbl <- dcast(dataset_tbl, A+B+C~Replicate, fun=function(x) { paste(x, collapse = \" , \")}, fill='', value.var=\"Block.Y\")\n",
    "dataset_tbl <- merge(dataset_tbl, read.csv('../2_3_vars.csv'))\n",
    "dataset_tbl"
   ]
  },
  {
   "cell_type": "markdown",
   "id": "5342dd7d",
   "metadata": {},
   "source": [
    "For replicate 1, find the block effect,\n",
    "\n",
    "$b_{r_1} = \\frac{1}{2(2^3)}(abc + a + b + c - ab - ac - bc - 1)$\n",
    "\n",
    "Notice this is similar to calculating the effect of $ABC$,\n",
    "\n",
    "$ABC = \\frac{1}{2(2^3)}(abc + a + b + c - ab - ac - bc - 1)$\n",
    "\n",
    "Therefore, for replicate 1, the $ABC$ is confounded."
   ]
  },
  {
   "cell_type": "markdown",
   "id": "bb113603",
   "metadata": {},
   "source": [
    "For replicate 2, find the block effect,\n",
    "\n",
    "$b_{r_2} = \\frac{1}{2(2^3)}(ac + a + bc + b - abc - ab - c - 1)$\n",
    "\n",
    "Since we could not find a matching effect, we swap it,\n",
    "\n",
    "$b_{r_2} = \\frac{1}{2(2^3)}(1 + c + ab + abc - a - bc - b - ac)$\n",
    "\n",
    "Notice this is similar to calculating the effect of $AB$,\n",
    "\n",
    "$AB = \\frac{1}{2(2^3)}(1 + c + ab + abc - a - bc - b - ac)$\n",
    "\n",
    "Therefore, for replicate 2, the $AB$ is confounded."
   ]
  },
  {
   "cell_type": "markdown",
   "id": "be305729",
   "metadata": {},
   "source": [
    "Displaying the ANOVA with blocking and replicates,"
   ]
  },
  {
   "cell_type": "code",
   "execution_count": 48,
   "id": "4366f85f",
   "metadata": {
    "scrolled": false
   },
   "outputs": [
    {
     "data": {
      "text/plain": [
       "                Df Sum Sq Mean Sq F value   Pr(>F)    \n",
       "A                1  41311   41311  16.194  0.01008 *  \n",
       "B                1    218     218   0.085  0.78199    \n",
       "C                1 374850  374850 146.945 6.75e-05 ***\n",
       "Replicate        1   3875    3875   1.519  0.27255    \n",
       "A:B              1   2475    2475   0.970  0.36985    \n",
       "A:C              1  94403   94403  37.007  0.00174 ** \n",
       "B:C              1     18      18   0.007  0.93621    \n",
       "Replicate:Block  2   1511     756   0.296  0.75586    \n",
       "A:B:C            1      6       6   0.002  0.96282    \n",
       "Residuals        5  12755    2551                     \n",
       "---\n",
       "Signif. codes:  0 ‘***’ 0.001 ‘**’ 0.01 ‘*’ 0.05 ‘.’ 0.1 ‘ ’ 1"
      ]
     },
     "metadata": {},
     "output_type": "display_data"
    }
   ],
   "source": [
    "anova <- aov(lm(Y ~ A * B * C + Replicate + Block%in%Replicate, data=dataset))\n",
    "summary(anova)"
   ]
  },
  {
   "cell_type": "markdown",
   "id": "367e8195",
   "metadata": {},
   "source": [
    "# Formative Questions\n",
    "\n",
    "(Source: Chew Chee Hua. \"Basic Statistical Methods in Experimental Design\")"
   ]
  },
  {
   "cell_type": "markdown",
   "id": "fdfd5a97",
   "metadata": {},
   "source": [
    "## Question 1\n",
    "\n",
    "An experiment was performed to improve the yield of a chemical process. `4` variables were selected, and `2` replicates of a completely randomised expt were run. Estimate the variable effects.\n",
    "\n",
    "## Question 2\n",
    "\n",
    "Prepare an analysis of variance table and determine which variables are important in explaining yield."
   ]
  },
  {
   "cell_type": "code",
   "execution_count": 26,
   "id": "8a496f98",
   "metadata": {
    "scrolled": false
   },
   "outputs": [],
   "source": [
    "dataset <- read.csv('chem4.csv')"
   ]
  },
  {
   "cell_type": "code",
   "execution_count": 27,
   "id": "e3984cbd",
   "metadata": {},
   "outputs": [],
   "source": [
    "dataset$A <- as.factor(dataset$A)\n",
    "dataset$B <- as.factor(dataset$B)\n",
    "dataset$C <- as.factor(dataset$C)\n",
    "dataset$D <- as.factor(dataset$D)"
   ]
  },
  {
   "cell_type": "code",
   "execution_count": 30,
   "id": "4bafc692",
   "metadata": {},
   "outputs": [
    {
     "name": "stderr",
     "output_type": "stream",
     "text": [
      "`summarise()` has grouped output by 'A', 'B', 'C'. You can override using the `.groups` argument.\n",
      "\n"
     ]
    },
    {
     "data": {
      "text/html": [
       "<table class=\"dataframe\">\n",
       "<caption>A matrix: 1 × 15 of type dbl</caption>\n",
       "<thead>\n",
       "\t<tr><th scope=col>A</th><th scope=col>B</th><th scope=col>AB</th><th scope=col>C</th><th scope=col>AC</th><th scope=col>BC</th><th scope=col>ABC</th><th scope=col>D</th><th scope=col>AD</th><th scope=col>BD</th><th scope=col>ABD</th><th scope=col>CD</th><th scope=col>ACD</th><th scope=col>BCD</th><th scope=col>ABCD</th></tr>\n",
       "</thead>\n",
       "<tbody>\n",
       "\t<tr><td>-9.0625</td><td>-1.3125</td><td>4.0625</td><td>-2.6875</td><td>0.6875</td><td>-0.5625</td><td>-5.1875</td><td>3.9375</td><td>-2.1875</td><td>-0.1875</td><td>4.6875</td><td>1.6875</td><td>-0.9375</td><td>-0.9375</td><td>2.4375</td></tr>\n",
       "</tbody>\n",
       "</table>\n"
      ],
      "text/latex": [
       "A matrix: 1 × 15 of type dbl\n",
       "\\begin{tabular}{lllllllllllllll}\n",
       " A & B & AB & C & AC & BC & ABC & D & AD & BD & ABD & CD & ACD & BCD & ABCD\\\\\n",
       "\\hline\n",
       "\t -9.0625 & -1.3125 & 4.0625 & -2.6875 & 0.6875 & -0.5625 & -5.1875 & 3.9375 & -2.1875 & -0.1875 & 4.6875 & 1.6875 & -0.9375 & -0.9375 & 2.4375\\\\\n",
       "\\end{tabular}\n"
      ],
      "text/markdown": [
       "\n",
       "A matrix: 1 × 15 of type dbl\n",
       "\n",
       "| A | B | AB | C | AC | BC | ABC | D | AD | BD | ABD | CD | ACD | BCD | ABCD |\n",
       "|---|---|---|---|---|---|---|---|---|---|---|---|---|---|---|\n",
       "| -9.0625 | -1.3125 | 4.0625 | -2.6875 | 0.6875 | -0.5625 | -5.1875 | 3.9375 | -2.1875 | -0.1875 | 4.6875 | 1.6875 | -0.9375 | -0.9375 | 2.4375 |\n",
       "\n"
      ],
      "text/plain": [
       "     A       B       AB     C       AC     BC      ABC     D      AD     \n",
       "[1,] -9.0625 -1.3125 4.0625 -2.6875 0.6875 -0.5625 -5.1875 3.9375 -2.1875\n",
       "     BD      ABD    CD     ACD     BCD     ABCD  \n",
       "[1,] -0.1875 4.6875 1.6875 -0.9375 -0.9375 2.4375"
      ]
     },
     "metadata": {},
     "output_type": "display_data"
    }
   ],
   "source": [
    "dataset_tbl <- dataset %>% group_by(A, B, C, D) %>% summarise(Total=sum(Y))\n",
    "dataset_tbl <- merge(dataset_tbl, read.csv('../2_4_vars.csv'))\n",
    "\n",
    "yates <- read.csv('../2_4_yates.csv')\n",
    "yates_t <- merge(yates, dataset_tbl[c('Total', 'Treatment')])\n",
    "\n",
    "effects <- colSums(yates_t[!(names(yates_t) %in% c('Treatment', 'Total'))] * (1/(2^(4-1) * 2)) * yates_t$Total)\n",
    "t(effects)"
   ]
  },
  {
   "cell_type": "code",
   "execution_count": 31,
   "id": "dd348918",
   "metadata": {
    "scrolled": false
   },
   "outputs": [
    {
     "data": {
      "text/plain": [
       "            Df Sum Sq Mean Sq F value   Pr(>F)    \n",
       "A            1  657.0   657.0  85.816 7.87e-08 ***\n",
       "B            1   13.8    13.8   1.800 0.198445    \n",
       "C            1   57.8    57.8   7.547 0.014317 *  \n",
       "D            1  124.0   124.0  16.200 0.000979 ***\n",
       "A:B          1  132.0   132.0  17.245 0.000749 ***\n",
       "A:C          1    3.8     3.8   0.494 0.492302    \n",
       "B:C          1    2.5     2.5   0.331 0.573296    \n",
       "A:D          1   38.3    38.3   5.000 0.039945 *  \n",
       "B:D          1    0.3     0.3   0.037 0.850417    \n",
       "C:D          1   22.8    22.8   2.976 0.103793    \n",
       "A:B:C        1  215.3   215.3  28.118 7.15e-05 ***\n",
       "A:B:D        1  175.8   175.8  22.959 0.000200 ***\n",
       "A:C:D        1    7.0     7.0   0.918 0.352162    \n",
       "B:C:D        1    7.0     7.0   0.918 0.352162    \n",
       "A:B:C:D      1   47.5    47.5   6.208 0.024077 *  \n",
       "Residuals   16  122.5     7.7                     \n",
       "---\n",
       "Signif. codes:  0 ‘***’ 0.001 ‘**’ 0.01 ‘*’ 0.05 ‘.’ 0.1 ‘ ’ 1"
      ]
     },
     "metadata": {},
     "output_type": "display_data"
    }
   ],
   "source": [
    "anova <- aov(Y ~ A*B*C*D, data=dataset)\n",
    "summary(anova)"
   ]
  },
  {
   "cell_type": "markdown",
   "id": "81e54ace",
   "metadata": {},
   "source": [
    "The significant factors are $A$, $C$, $D$, $AB$, $ABC$, $AD$, $ABD$ and $ABCD$. "
   ]
  },
  {
   "cell_type": "markdown",
   "id": "5b8e2a92",
   "metadata": {},
   "source": [
    "## Question 3\n",
    "\n",
    "Write down a regression model for predicting yield, assuming that all four variables were varied over the range from `−1` to `+1` (in coded units).\n",
    "\n",
    "## Question 4\n",
    "\n",
    "Plot the residuals versus the predicted yield and on a normal probability scale. Does the residual analysis appear satisfactory?"
   ]
  },
  {
   "cell_type": "code",
   "execution_count": 8,
   "id": "9a700409",
   "metadata": {},
   "outputs": [],
   "source": [
    "dataset <- read.csv('chem4_num.csv')"
   ]
  },
  {
   "cell_type": "code",
   "execution_count": 10,
   "id": "ca428657",
   "metadata": {
    "scrolled": false
   },
   "outputs": [
    {
     "data": {
      "text/plain": [
       "\n",
       "Call:\n",
       "lm(formula = Y ~ A + C + D + I(A * B) + I(A * D) + I(A * B * \n",
       "    C) + I(A * B * D) + I(A * B * C * D), data = dataset)\n",
       "\n",
       "Residuals:\n",
       "    Min      1Q  Median      3Q     Max \n",
       "-5.0312 -1.8125 -0.1875  0.9844  6.9687 \n",
       "\n",
       "Coefficients:\n",
       "                 Estimate Std. Error t value Pr(>|t|)    \n",
       "(Intercept)       82.7812     0.4941 167.523  < 2e-16 ***\n",
       "A                 -4.5312     0.4941  -9.170 3.82e-09 ***\n",
       "C                 -1.3437     0.4941  -2.719 0.012230 *  \n",
       "D                  1.9688     0.4941   3.984 0.000585 ***\n",
       "I(A * B)           2.0312     0.4941   4.111 0.000427 ***\n",
       "I(A * D)          -1.0938     0.4941  -2.213 0.037065 *  \n",
       "I(A * B * C)      -2.5937     0.4941  -5.249 2.52e-05 ***\n",
       "I(A * B * D)       2.3438     0.4941   4.743 8.83e-05 ***\n",
       "I(A * B * C * D)   1.2187     0.4941   2.466 0.021530 *  \n",
       "---\n",
       "Signif. codes:  0 ‘***’ 0.001 ‘**’ 0.01 ‘*’ 0.05 ‘.’ 0.1 ‘ ’ 1\n",
       "\n",
       "Residual standard error: 2.795 on 23 degrees of freedom\n",
       "Multiple R-squared:  0.8896,\tAdjusted R-squared:  0.8512 \n",
       "F-statistic: 23.16 on 8 and 23 DF,  p-value: 2.927e-09\n"
      ]
     },
     "metadata": {},
     "output_type": "display_data"
    }
   ],
   "source": [
    "lr <- lm(Y ~ A + C + D + I(A*B) + I(A*D) + I(A*B*C) + I(A*B*D) + I(A*B*C*D), data=dataset)\n",
    "summary(lr)"
   ]
  },
  {
   "cell_type": "code",
   "execution_count": 11,
   "id": "8bb22b9f",
   "metadata": {
    "scrolled": false
   },
   "outputs": [
    {
     "name": "stderr",
     "output_type": "stream",
     "text": [
      "hat values (leverages) are all = 0.28125\n",
      " and there are no factor predictors; no plot no. 5\n",
      "\n"
     ]
    },
    {
     "data": {
      "image/png": "[encoded data removed]",
      "text/plain": [
       "Plot with title “”"
      ]
     },
     "metadata": {
      "image/png": {
       "height": 420,
       "width": 420
      }
     },
     "output_type": "display_data"
    }
   ],
   "source": [
    "par(mfrow=c(2,2))\n",
    "plot(lr)"
   ]
  },
  {
   "cell_type": "markdown",
   "id": "0eb6fdf3",
   "metadata": {},
   "source": [
    "There are no reasons to question its normality as there no obvious problem with model assumptions."
   ]
  },
  {
   "cell_type": "markdown",
   "id": "7d521102",
   "metadata": {},
   "source": [
    "## Question 5\n",
    "Consider only the data from the first replicate. Construct a design with two blocks of eight observations each with $ABCD$ confounded. Analyse the data."
   ]
  },
  {
   "cell_type": "code",
   "execution_count": null,
   "id": "c89de411",
   "metadata": {
    "scrolled": false
   },
   "outputs": [],
   "source": [
    "dataset <- read.csv('chem4abcd.csv')\n",
    "anova <- aov(Y ~ A * B * C * D + Block, data=dataset)\n",
    "summary(anova)"
   ]
  },
  {
   "cell_type": "markdown",
   "id": "4796c753",
   "metadata": {},
   "source": [
    "Insufficient data points for ANOVA p-values. We will select the factors with relatively high mean squared as they are likely to be significant: $A$, $D$, $ABC$. However since $B$ and $C$ is not selected, therefore we will not use $ABC$, and block effect is confounded with $ABCD$ by design (see \"Block\")."
   ]
  },
  {
   "cell_type": "code",
   "execution_count": null,
   "id": "f5146fcd",
   "metadata": {
    "scrolled": true
   },
   "outputs": [],
   "source": [
    "anova <- aov(Y ~ A + D, data=dataset)\n",
    "summary(anova)"
   ]
  },
  {
   "cell_type": "markdown",
   "id": "2bb0ef71",
   "metadata": {},
   "source": [
    "Only factor $A$ is significant."
   ]
  }
 ],
 "metadata": {
  "kernelspec": {
   "display_name": "R",
   "language": "R",
   "name": "ir"
  },
  "language_info": {
   "codemirror_mode": "r",
   "file_extension": ".r",
   "mimetype": "text/x-r-source",
   "name": "R",
   "pygments_lexer": "r",
   "version": "4.1.0"
  }
 },
 "nbformat": 4,
 "nbformat_minor": 5
}
