{
 "cells": [
  {
   "cell_type": "markdown",
   "id": "7712f0f8",
   "metadata": {},
   "source": [
    "# Strategy of Experimentation\n",
    "\n",
    "## Design of Experiments\n",
    "\n",
    "1. It is a powerful statistical technique for improving product/process designs and solving process/production problems.\n",
    "2. It makes controlled changes to input variables in order to gain maximum amounts of information on cause and effect relationships with a minimum sample size.\n",
    "3. Experiments are often used to evaluate which process inputs have a significant impact on the process output and what the target level the inputs should be to achieve a desired result (or output) when analyzing a process.\n",
    "\n",
    "\n",
    "For example, in planning a [washing experiment](https://www.youtube.com/watch?v=TWc5bqYWweM), the desired outcome is to test how effective dirt is removed from a shirt using dynamo vs its competitor product.\n",
    "\n",
    "Then these are the checklist to plan the experiment,\n",
    "\n",
    "1. Evaluation criteria that determines the level of effectiveness on the output.\n",
    "   - E.g. expectation of `85%` dirt gone from the fabric.\n",
    "2. Conditions and clothes that must be considered (aka inputs).\n",
    "   - E.g. white shirt using `1L` of water using the same brand of washing machine.\n",
    "3. Aim to conclude (aka experiment objectives) and if they can be achieved from checklist point 1 and 2.\n",
    "   - E.g. if dynamo is a better washing agent than its competitors.\n",
    "4. The controllable variables - on which we want to control and how.\n",
    "   - E.g. the amount and concentration of the washing agent.\n",
    "5. The uncontrollable variables - on how we want to adjust for and how.\n",
    "   - E.g. how clean would the fabric be.\n",
    "\n",
    "In which the objectives can be summed up to a **General Model of a Process/System** such as,\n",
    "\n",
    "<img src=\"https://www.researchgate.net/profile/Mutiu-Erinosho/publication/317679846/figure/fig1/AS:524584702623744@1502082147811/General-model-of-a-process-or-system-9-Slika-1-Sploni-model-procesa-ali-sistema-9.png\" width=\"300\" height=\"auto\" />\n",
    "\n",
    "(Source: [Mutiu Erinosho et., 2017](https://www.researchgate.net/profile/Mutiu-Erinosho/publication/317679846))\n",
    "\n",
    "<img src=\"https://4.bp.blogspot.com/-sJhLs1FndFQ/WMTD2kGr0NI/AAAAAAAAAw0/QRbRqsqoAbEtfMoSr7r0syE09vVS6ex6gCLcB/s640/Capture.PNG\" width=\"400\" height=\"auto\" />\n",
    "\n",
    "(Source: [Shashi, 2013](https://qualitymgmnttools.blogspot.com/2013/10/design-of-experiment.html))\n",
    "\n",
    "It relies on the following determinants,\n",
    "\n",
    "1. Which variables are most important on output $y$?\n",
    "2. How to set important $x$ so that $y$ is near the desired target value?\n",
    "3. How to set the important $x$ so that variability in $y$ is small enough?\n",
    "4. How to set te important $x$ so that the effects of uncontrollable factors are minimized?\n",
    "\n",
    "The general approach to planning and conducting the experiment is then called the **Strategy of Experimentation**, which can be based on several strategies."
   ]
  },
  {
   "cell_type": "markdown",
   "id": "3b3a2896",
   "metadata": {},
   "source": [
    "## Approaches to Planning an Experiment\n",
    "\n",
    "For example, in planning a golfing experiment, the desired outcome is to test which variables (e.g. \"ball\", \"driver\", \"mode_of_travel\", \"beverage\") results in the best minimal score.\n",
    "\n",
    "\n",
    "### Best Guess Approach\n",
    "\n",
    "Arbitary select a combination of these variables, test and see what happens to determine variables.\n",
    "\n",
    "This is frequently used in practice by engineers and scientists, and works well because the experimenters often have a great deal of technical or theoretical knowledge of the system they are studying or practical experience.\n",
    "\n",
    "In the case of this approach, we arbitary use variables such as,\n",
    "\n",
    "```\n",
    "ball = balata\n",
    "driver = over-sized\n",
    "mode_of_travel = riding\n",
    "beverage = water\n",
    "```\n",
    "Score: `87`\n",
    "\n",
    "This gets tweaked further again and again by trial-and-error until the best score is obtained (e.g. golfer noticed several wayward shots with `driver = over-sized` and decides with another with the `driver = regular-sized`).\n",
    "\n",
    "#### Disadvantages\n",
    "\n",
    "1. If the initial best guess does not produce the desired results this could go-on-and-on, which is time consuming.\n",
    "2. If the initial best-guess produces an acceptable result the experimenter is tempted to stop testing - thus making the experiment inadequately accurate.\n",
    "\n",
    "\n",
    "###  [One Factor at A Time (OFAT) Approach](https://en.wikipedia.org/wiki/One-factor-at-a-time_method)\n",
    "\n",
    "Select a starting point for each variable and then vary each variable over its range with other variables held constant at the baseline level. \n",
    "\n",
    "Then a series of graphs is constructured after all the tests are performed to show how the response variable is affected with other variables constant.\n",
    "\n",
    "<img src=\"https://images.slideplayer.com/42/11487443/slides/slide_5.jpg\" width=\"450\" height=\"auto\" />\n",
    "\n",
    "(Link: [Hillary Chambers, 2017](https://slideplayer.com/slide/11487443/))\n",
    "\n",
    "The optimal combination is using `driver = regular-sized`, `mode_of_travel = riding` and `beverage = water`.\n",
    "\n",
    "#### Disadvantages\n",
    "\n",
    "It fails to consider possible interaction between variables. \n",
    "\n",
    "<img src=\"https://images.slideplayer.com/26/8814685/slides/slide_14.jpg\" width=\"350\" height=\"auto\" />\n",
    "\n",
    "(Source: [Dr. Tai Yue Wang, 2016](https://slideplayer.com/slide/8814685/))\n",
    "\n",
    "We can see that the \"driver\" affects the score depending on the \"beverage\" (aka multi-variables influence).\n",
    "\n",
    "Interactions are common and hence OFAT strategy may produce poor results. It tends to be less efficient than other methods based on a statistical approach to design.\n",
    "\n",
    "### [Factorial Approach](https://en.wikipedia.org/wiki/Factorial_experiment)\n",
    "\n",
    "<img src=\"https://upload.wikimedia.org/wikipedia/commons/thumb/5/58/Cube_plot_for_bearing_life.svg/862px-Cube_plot_for_bearing_life.svg.png\" width=\"300\" height=\"auto\" />\n",
    "\n",
    "(Source: [@Factorial01, 2017 - _Example of 2-level & 4-factors ($2^2$) factorial approach_](https://en.wikipedia.org/wiki/Factorial_experiment#/media/File:Cube_plot_for_bearing_life.svg))\n",
    "\n",
    "In this approach, variables are varied together instead of one at a time (this is very important and used).\n",
    "\n",
    "Factorial designs consists of the number of variables and levels, which results in the test combinations.\n",
    "\n",
    "<img src=\"https://player.slideplayer.com/98/16988070/slides/slide_16.jpg\" width=\"450\" height=\"auto\" />\n",
    "\n",
    "<img src=\"https://player.slideplayer.com/98/16988070/slides/slide_17.jpg\" width=\"450\" height=\"auto\" />\n",
    "\n",
    "<img src=\"https://player.slideplayer.com/98/16988070/slides/slide_18.jpg\" width=\"450\" height=\"auto\" />\n",
    "\n",
    "<img src=\"https://player.slideplayer.com/98/16988070/slides/slide_19.jpg\" width=\"450\" height=\"auto\" />\n",
    "\n",
    "(Source: [Dr. Tai-Yue Wang, 2019](https://slideplayer.com/slide/16988070))\n",
    "\n",
    "From a 2-level 2-factors ($2^1$) factorial approach, we were able to find the interaction level.\n",
    "\n",
    "Below are some examples to help further understand the various levels and factors,\n",
    "\n",
    "<img src=\"https://slideplayer.com/slide/16988070/98/images/21/Factorial+Designs+with+Several+Factors%282%2F2%29.jpg\" width=\"450\" height=\"auto\" />\n",
    "\n",
    "(Source: [Dr. Tai-Yue Wang, 2019 - _Example of 2-level 4-factor ($2^2$) factorial approach_](https://slideplayer.com/slide/16988070))\n",
    "\n",
    "<img src=\"https://www.researchgate.net/publication/329106832/figure/fig4/AS:695579613081605@1542850511822/Illustration-of-three-level-full-factorial-design-3-3-matrix-a-central-composite.png\" width=\"500\" height=\"auto\" />\n",
    "\n",
    "(Source: [Isa Martin Fukuda et., 2018 - _Example of 3-level 9-factor ($3^2$) factorial approach (see left)_](https://www.researchgate.net/publication/329106832))\n",
    "\n",
    "<img src=\"http://community.asdlib.org/imageandvideoexchangeforum/files/2013/08/Figure14.12.jpg\" width=\"280\" height=\"auto\" />\n",
    "\n",
    "(Source: [David Harvey, 2013 - _Example of 2-level $2^1$ vs $2^2$ factor levels and its trials_](https://community.asdlib.org/imageandvideoexchangeforum/2013/08/05/modeling-response-surfaces-using-factorial-designs/))"
   ]
  },
  {
   "cell_type": "markdown",
   "id": "679b30e7",
   "metadata": {},
   "source": [
    "# Getting started with R\n",
    "\n",
    "Creating an example script to understand the statistical functions in R."
   ]
  },
  {
   "cell_type": "markdown",
   "id": "fc600366",
   "metadata": {},
   "source": [
    "## Baby\n",
    "\n",
    "For example, let's create a dataset of babies age and weight, where the baby's age is the input variable and weight the response variable."
   ]
  },
  {
   "cell_type": "code",
   "execution_count": 6,
   "id": "9ce1a8f7",
   "metadata": {},
   "outputs": [
    {
     "data": {
      "image/png": "[encoded data removed]",
      "text/plain": [
       "Plot with title “Plot of Baby's Weight vs Age”"
      ]
     },
     "metadata": {
      "image/png": {
       "height": 420,
       "width": 420
      }
     },
     "output_type": "display_data"
    }
   ],
   "source": [
    "# Create a vector of baby's age in months.\n",
    "age <- c(1, 3, 5, 2, 11, 9, 3, 9, 12, 3)\n",
    "\n",
    "# Create a corresponding vector of baby's weight in kg.\n",
    "weight <- c(4.4, 5.3, 7.2, 5.2, 8.5, 7.3, 6.0, 10.4, 10.2, 6.1)\n",
    "\n",
    "# Create a dataset with 3 columns.\n",
    "baby_data <- data.frame(seq(1,10), age, weight)\n",
    "\n",
    "# Create variable names for the three columns in baby_data.\n",
    "names(baby_data) <- c(\"ID\", \"Age\", \"Weight\")\n",
    "\n",
    "# Scatterplot with x-axis = age, y-axis = weight.\n",
    "plot(age, weight, col=\"red\", main=\"Plot of Baby's Weight vs Age\")"
   ]
  },
  {
   "cell_type": "markdown",
   "id": "32118224",
   "metadata": {},
   "source": [
    "Calculate the average weight (mean) of all babies.\n",
    "\n",
    "$\\large{\\mu = \\frac{\\sum_{i=1}^{N}x_i}{N}}$"
   ]
  },
  {
   "cell_type": "code",
   "execution_count": 7,
   "id": "dd5a0f2a",
   "metadata": {},
   "outputs": [
    {
     "data": {
      "text/html": [
       "7.06"
      ],
      "text/latex": [
       "7.06"
      ],
      "text/markdown": [
       "7.06"
      ],
      "text/plain": [
       "[1] 7.06"
      ]
     },
     "metadata": {},
     "output_type": "display_data"
    }
   ],
   "source": [
    "mean(weight)"
   ]
  },
  {
   "cell_type": "markdown",
   "id": "74606bd0",
   "metadata": {},
   "source": [
    "Calculate the standard deviation of weight of all babies.\n",
    "\n",
    "$\\large{\\sigma = \\sqrt[]{\\frac{\\sum_{i=1}^{N} (x_i - \\mu)^2}{N}}}$"
   ]
  },
  {
   "cell_type": "code",
   "execution_count": 8,
   "id": "98b93aa0",
   "metadata": {},
   "outputs": [
    {
     "data": {
      "text/html": [
       "2.07749849578766"
      ],
      "text/latex": [
       "2.07749849578766"
      ],
      "text/markdown": [
       "2.07749849578766"
      ],
      "text/plain": [
       "[1] 2.077498"
      ]
     },
     "metadata": {},
     "output_type": "display_data"
    }
   ],
   "source": [
    "sd(weight)"
   ]
  },
  {
   "cell_type": "markdown",
   "id": "8fce81cd",
   "metadata": {},
   "source": [
    "Calculate the correlation between age and weight.\n",
    "\n",
    "$\\large{r = \\frac{\\sum_{i=1}^{N} (x_i - \\bar{x})(y_i - \\bar{y})}{\\sqrt[]{\\sum_{i=1}^{N} (x_i - \\bar{x})^2 \\sum_{i=1}^{N}(y_i - \\bar{y})^2}}}$"
   ]
  },
  {
   "cell_type": "code",
   "execution_count": 9,
   "id": "6b1963d9",
   "metadata": {},
   "outputs": [
    {
     "data": {
      "text/html": [
       "0.907565543895256"
      ],
      "text/latex": [
       "0.907565543895256"
      ],
      "text/markdown": [
       "0.907565543895256"
      ],
      "text/plain": [
       "[1] 0.9075655"
      ]
     },
     "metadata": {},
     "output_type": "display_data"
    }
   ],
   "source": [
    "cor(age, weight)"
   ]
  },
  {
   "cell_type": "markdown",
   "id": "fb140541",
   "metadata": {},
   "source": [
    "Export the dataset to CSV file."
   ]
  },
  {
   "cell_type": "code",
   "execution_count": 10,
   "id": "ab8bd07b",
   "metadata": {},
   "outputs": [],
   "source": [
    "write.csv(baby_data, file=\"baby.csv\", row.names=FALSE)"
   ]
  },
  {
   "cell_type": "markdown",
   "id": "47692c76",
   "metadata": {},
   "source": [
    "## Baby 2\n",
    "\n",
    "Let's import a dataset and get a sense of the input/response variables."
   ]
  },
  {
   "cell_type": "code",
   "execution_count": 4,
   "id": "d43b839c",
   "metadata": {},
   "outputs": [],
   "source": [
    "baby2_data <- read.csv(\"baby2.csv\")"
   ]
  },
  {
   "cell_type": "markdown",
   "id": "9c4fcd49",
   "metadata": {},
   "source": [
    "Get a summary stats of all variables in the dataset (this is the better and faster way to get summary statistics of all variables).\n",
    "\n",
    "Notice that,\n",
    "\n",
    "1. `Weight` has a missing value.\n",
    "2. Max `Age = 40` months seems wierd. Is it an outlier or normal?"
   ]
  },
  {
   "cell_type": "code",
   "execution_count": 11,
   "id": "f33079c3",
   "metadata": {},
   "outputs": [
    {
     "data": {
      "text/plain": [
       "       ID              Age             Weight      \n",
       " Min.   :   1.0   Min.   : 1.000   Min.   : 4.400  \n",
       " 1st Qu.: 250.8   1st Qu.: 4.000   1st Qu.: 6.300  \n",
       " Median : 500.5   Median : 7.000   Median : 7.900  \n",
       " Mean   : 500.5   Mean   : 6.613   Mean   : 7.788  \n",
       " 3rd Qu.: 750.2   3rd Qu.:10.000   3rd Qu.: 9.300  \n",
       " Max.   :1000.0   Max.   :40.000   Max.   :11.000  \n",
       "                                   NA's   :1       "
      ]
     },
     "metadata": {},
     "output_type": "display_data"
    }
   ],
   "source": [
    "summary(baby2_data)"
   ]
  },
  {
   "cell_type": "markdown",
   "id": "548ba1ec",
   "metadata": {},
   "source": [
    "Use a boxplot to visualise the distribution for age and weight to detect outliers (if any)."
   ]
  },
  {
   "cell_type": "code",
   "execution_count": 12,
   "id": "b1d173df",
   "metadata": {},
   "outputs": [
    {
     "data": {
      "image/png": "[encoded data removed]",
      "text/plain": [
       "plot without title"
      ]
     },
     "metadata": {
      "image/png": {
       "height": 420,
       "width": 420
      }
     },
     "output_type": "display_data"
    },
    {
     "data": {
      "image/png": "[encoded data removed]",
      "text/plain": [
       "plot without title"
      ]
     },
     "metadata": {
      "image/png": {
       "height": 420,
       "width": 420
      }
     },
     "output_type": "display_data"
    }
   ],
   "source": [
    "# Shows an outlier in Age.\n",
    "boxplot(baby2_data$Age)\n",
    "\n",
    "# Shows no outliers.\n",
    "boxplot(baby2_data$Weight)"
   ]
  },
  {
   "cell_type": "markdown",
   "id": "5c9c5d8b",
   "metadata": {},
   "source": [
    "Visualize the dataset"
   ]
  },
  {
   "cell_type": "code",
   "execution_count": 24,
   "id": "af34f7fd",
   "metadata": {},
   "outputs": [
    {
     "data": {
      "image/png": "[encoded data removed]",
      "text/plain": [
       "plot without title"
      ]
     },
     "metadata": {
      "image/png": {
       "height": 420,
       "width": 420
      }
     },
     "output_type": "display_data"
    }
   ],
   "source": [
    "plot(x=baby2_data$Age, y=baby2_data$Weight)"
   ]
  },
  {
   "cell_type": "markdown",
   "id": "f9ec3079",
   "metadata": {},
   "source": [
    "Calculate the weight and exclude missing value in calculation."
   ]
  },
  {
   "cell_type": "code",
   "execution_count": 32,
   "id": "90544136",
   "metadata": {},
   "outputs": [
    {
     "data": {
      "text/html": [
       "7.78808808808809"
      ],
      "text/latex": [
       "7.78808808808809"
      ],
      "text/markdown": [
       "7.78808808808809"
      ],
      "text/plain": [
       "[1] 7.788088"
      ]
     },
     "metadata": {},
     "output_type": "display_data"
    }
   ],
   "source": [
    "mean(baby2_data$Weight, na.rm=TRUE)"
   ]
  },
  {
   "cell_type": "markdown",
   "id": "eea09408",
   "metadata": {},
   "source": [
    "Calculate the standard deviation of all variables in dataset."
   ]
  },
  {
   "cell_type": "code",
   "execution_count": 33,
   "id": "5b0547a0",
   "metadata": {},
   "outputs": [
    {
     "data": {
      "text/html": [
       "<style>\n",
       ".dl-inline {width: auto; margin:0; padding: 0}\n",
       ".dl-inline>dt, .dl-inline>dd {float: none; width: auto; display: inline-block}\n",
       ".dl-inline>dt::after {content: \":\\0020\"; padding-right: .5ex}\n",
       ".dl-inline>dt:not(:first-of-type) {padding-left: .5ex}\n",
       "</style><dl class=dl-inline><dt>ID</dt><dd>288.819436095749</dd><dt>Age</dt><dd>3.63296427582621</dd><dt>Weight</dt><dd>1.74967166924213</dd></dl>\n"
      ],
      "text/latex": [
       "\\begin{description*}\n",
       "\\item[ID] 288.819436095749\n",
       "\\item[Age] 3.63296427582621\n",
       "\\item[Weight] 1.74967166924213\n",
       "\\end{description*}\n"
      ],
      "text/markdown": [
       "ID\n",
       ":   288.819436095749Age\n",
       ":   3.63296427582621Weight\n",
       ":   1.74967166924213\n",
       "\n"
      ],
      "text/plain": [
       "        ID        Age     Weight \n",
       "288.819436   3.632964   1.749672 "
      ]
     },
     "metadata": {},
     "output_type": "display_data"
    }
   ],
   "source": [
    "sapply(baby2_data, sd, na.rm=TRUE)"
   ]
  },
  {
   "cell_type": "markdown",
   "id": "8820b6ca",
   "metadata": {},
   "source": [
    "Calculate the correlation between age and weight.\n",
    "\n",
    "Note that `\"complete. obs\"` handles missing values by casewise deletion (and if there are no complete cases, that gives an error), so this filters out the missing weight row. Use `\"all.obs\"` and notice an error."
   ]
  },
  {
   "cell_type": "code",
   "execution_count": 34,
   "id": "b624fd8e",
   "metadata": {},
   "outputs": [
    {
     "data": {
      "text/html": [
       "0.936708766721782"
      ],
      "text/latex": [
       "0.936708766721782"
      ],
      "text/markdown": [
       "0.936708766721782"
      ],
      "text/plain": [
       "[1] 0.9367088"
      ]
     },
     "metadata": {},
     "output_type": "display_data"
    }
   ],
   "source": [
    "cor(baby2_data$Age, baby2_data$Weight, use=\"complete.obs\")"
   ]
  },
  {
   "cell_type": "markdown",
   "id": "dd07a47d",
   "metadata": {},
   "source": [
    "# Formative quiz\n",
    "\n",
    "(Source: Chew Chee Hua. \"Basic Statistical Methods in Experimental Design\")"
   ]
  },
  {
   "cell_type": "markdown",
   "id": "da4994e9",
   "metadata": {},
   "source": [
    "## Question 1\n",
    "\n",
    "Suppose that you want to investigate the variables that potentially affect over-medium eggs. \n",
    "\n",
    "1. What would you use as a response variable in this experiment?\n",
    "2. How would you measure the response?\n",
    "3. List potential sources of variability that could impact the response."
   ]
  },
  {
   "cell_type": "markdown",
   "id": "7b8fb5f2",
   "metadata": {},
   "source": [
    "### Answers\n",
    "\n",
    "1. Thickness of the egg york flow after cutting that it is neither too thick nor thin.\n",
    "2. Record by Taster’s eye and taste test, where $Y=1$ (success) and $Y=0$ (fail).\n",
    "3. The potential sources of variability,\n",
    "   1. Temperature of pan\n",
    "   2. Type of oil\n",
    "   3. Amount of oil\n",
    "   4. Time elapse before flip egg\n",
    "   5. Time elapse after flip egg"
   ]
  },
  {
   "cell_type": "markdown",
   "id": "38b894c1",
   "metadata": {},
   "source": [
    "## Question 2\n",
    "\n",
    "Almost every AX student is concerned about their grades achieved in the course.\n",
    "\n",
    "1. Identify variables that can potentially influence grade achieved. \n",
    "2. How would you go about conducting an experiment to determine if any of these variables actually affect grade?"
   ]
  },
  {
   "cell_type": "markdown",
   "id": "a449849f",
   "metadata": {},
   "source": [
    "### Answers\n",
    "\n",
    "1. The factors are:\n",
    "   1. Time spent revising AX course in total\n",
    "   2. Pre-requisite AX course grades (e.g. assignment and quiz results)\n",
    "   3. Number of courses concurrently taken by the students apart from AX course\n",
    "2. To conduct the experiment, I would stratify by factors 2 and 3 and randomly assign students to different revision time brackets (factor 1)."
   ]
  },
  {
   "cell_type": "markdown",
   "id": "52c7b012",
   "metadata": {},
   "source": [
    "## Question 3\n",
    "\n",
    "1. What is replication?\n",
    "2. Why do we need replication in an experiment?\n",
    "3. Present an example that shows the difference between replication and repeated measurements."
   ]
  },
  {
   "cell_type": "markdown",
   "id": "2ac1545c",
   "metadata": {},
   "source": [
    "### Answer\n",
    "\n",
    "1. Replication is an independent run with the same level of the factors (aka repetition of an experiment in the same or similar conditions). \n",
    "2. It is necessary to obtain error estimates. It gives greater validity to the findings. If a study results can be replicated, it means that it is more likely that those results can be generalized to the larger population.\n",
    "3. Repeated measures involves measuring the same cases multiple times, whereas Replication involves running the same study on different subjects but identical conditions.\n",
    "   - For example, using the previous over-medium eggs experiment. By repeating the cooking of the eggs with the same factor levels as a previous run is a replicate. If the same egg is tasted by `3` tasters, it is a repeated measurement.\n",
    "   - Another example is, studying on $N$ number of chips, and if you did the same conditions on another $N$ number of chips, this is replication. If you measured the chips and modified them and measured them again, it would be repeated measurements."
   ]
  },
  {
   "cell_type": "markdown",
   "id": "2a2a7627",
   "metadata": {},
   "source": [
    "## Question 4\n",
    "\n",
    "Why is randomisation important in an experiment?"
   ]
  },
  {
   "cell_type": "markdown",
   "id": "75f99038",
   "metadata": {},
   "source": [
    "### Answer\n",
    "\n",
    "Randomization will be more objective and fair, and guard against biases (e.g. prevents the selection bias and insures against the accidental bias), and helps to satisfy the statistical assumptions necessary for inference. \n",
    "\n",
    "For example, [selection bias](https://catalogofbias.org/biases/selection-bias/) (e.g. where some groups are underrepresented) is eliminated and [accidental bias](https://www.statisticshowto.com/accidental-bias) (e.g. introduction of one or more nuisance variables into your experiment which are unwanted and systematically affect the experimental units) is minimized. \n",
    "\n",
    "Randomization techniques reduces such biaseness, and hence it produces the comparable groups and eliminates the source of bias in treatment assignments."
   ]
  },
  {
   "cell_type": "markdown",
   "id": "212adbc6",
   "metadata": {},
   "source": [
    "## Question 5\n",
    "\n",
    "What are the potential risks of a single large, comprehensive experiment in contrast to a sequential approach?"
   ]
  },
  {
   "cell_type": "markdown",
   "id": "c3911213",
   "metadata": {},
   "source": [
    "### Answer\n",
    "\n",
    "A sequential approach allows information from previous experiments to validate assumptions, inform and improve subsequent experiment. There is no way to recover or adjust if there is only one single big experiment.\n",
    "\n",
    "Moreover, if it’s wrong, the result will be disappointing, and wasting a lot of time, materials and other resources. \n",
    "\n",
    "Hence using a sequential approach employs a series of smaller experiments, each with a specific objective, such a factor screening, is a better approach."
   ]
  },
  {
   "cell_type": "markdown",
   "id": "3a0ae782",
   "metadata": {},
   "source": [
    "## Question 6\n",
    "\n",
    "Consider the computer output shown below.\n",
    "\n",
    "#### One-Sample Z\n",
    "\n",
    "Test of $\\mu = 30$ vs $\\mu \\neq 30$\n",
    "\n",
    "The assumed standard deviation $\\sigma = 1.2$\n",
    "\n",
    "| N | Mean | SE Mean | `95%` CI | Z | p-value |\n",
    "| -- | -- | -- | -- | -- | -- |\n",
    "| 16 | 31.2000 | 0.3000 | (30.6120, 31.7880) | ? | ? |\n",
    "\n",
    "1. Fill in the missing values in the output.\n",
    "2. What conclusion would you draw?\n",
    "3. Is this a one-sided or two-sided test?”"
   ]
  },
  {
   "cell_type": "markdown",
   "id": "89b4b362",
   "metadata": {},
   "source": [
    "### Answer\n",
    "\n",
    "The ideal goal is to determine if the sample mean is close to the population mean.\n",
    "\n",
    "In this scenario, we have `95%` Confidence Interval (CI), which gives us an alpha of `0.05` since $k$ is `0.95` (`CI = k * 100%`).\n",
    "\n",
    "The formula for finding the Z-score is,\n",
    "\n",
    "$\\large{z = \\frac{x - \\mu}{\\sigma}}$\n",
    "\n",
    "The formula for finding the standard error is,\n",
    "\n",
    "$\\large{SE = \\frac{\\sigma}{\\sqrt[]{N}}}$\n",
    "\n",
    "The formula for finding the T-score is,\n",
    "\n",
    "$\\large{t = \\frac{\\bar{x} - \\mu_0}{SE}}$\n",
    "\n",
    "#### [What's the difference between T-score and Z-score?](https://www.statisticshowto.com/probability-and-statistics/hypothesis-testing/t-score-vs-z-score)\n",
    "\n",
    "For sample size of $N > 30$, Z-score is used, else T-score is used. T-scores are also used when you don’t know the population standard deviation, hence you make an estimate by using your sample."
   ]
  },
  {
   "cell_type": "markdown",
   "id": "d4b04575",
   "metadata": {},
   "source": [
    "1. The Z value (T-score) for the sample mean is,"
   ]
  },
  {
   "cell_type": "code",
   "execution_count": 60,
   "id": "99825947",
   "metadata": {},
   "outputs": [
    {
     "data": {
      "text/html": [
       "4"
      ],
      "text/latex": [
       "4"
      ],
      "text/markdown": [
       "4"
      ],
      "text/plain": [
       "[1] 4"
      ]
     },
     "metadata": {},
     "output_type": "display_data"
    }
   ],
   "source": [
    "z = (31.2 - 30) / 0.3\n",
    "z"
   ]
  },
  {
   "cell_type": "markdown",
   "id": "c832f8b1",
   "metadata": {},
   "source": [
    "1. The corresponding p-value is,\n",
    "\n",
    "> To visualise,\n",
    "> \n",
    "```  \n",
    "                                 mean\n",
    "std units:          - ... o ...... | ...... o ... +\n",
    "                        -abs(Z)            abs(Z)\n",
    "cum. prob to obtain: [####]                 [####]\n",
    "```\n",
    ">\n",
    "> Since CDF (cum. probability) starts from the left, `<cum. prob filled LHS> = pnorm(-abs(z))`.\n",
    ">\n",
    "> And given that is two-tailed, multiply by `2` to obtain the area on the right too."
   ]
  },
  {
   "cell_type": "code",
   "execution_count": 52,
   "id": "219fdd59",
   "metadata": {},
   "outputs": [
    {
     "data": {
      "text/html": [
       "6.33424836662404e-05"
      ],
      "text/latex": [
       "6.33424836662404e-05"
      ],
      "text/markdown": [
       "6.33424836662404e-05"
      ],
      "text/plain": [
       "[1] 6.334248e-05"
      ]
     },
     "metadata": {},
     "output_type": "display_data"
    }
   ],
   "source": [
    "# Obtain normal distribution probability value where -4 is max starting from the left.\n",
    "# Since it is 2-tailed, 2 * P[z < Z]\n",
    "p = 2 * pnorm(-abs(z))\n",
    "p"
   ]
  },
  {
   "cell_type": "markdown",
   "id": "1f54357e",
   "metadata": {},
   "source": [
    "2. Hypothesis: $H_0: \\mu = 30, H_1: \\mu \\neq 30$. Conclusion: Since p-value < alpha, we reject $H_0$ and conclude that the population mean is not equal to `30`.\n",
    "3. This is also a two-sided test (see the 2 CI %)"
   ]
  },
  {
   "cell_type": "markdown",
   "id": "c9978711",
   "metadata": {},
   "source": [
    "## Question 7\n",
    "\n",
    "Consider the following sample data: \n",
    "\n",
    "> 9.37, 13.04, 11.69, 8.21, 11.18, 10.41, 13.15, 11.51, 13.21, and 7.75\n",
    "\n",
    "Is there evidence to support a claim that the mean of the population is `10`?"
   ]
  },
  {
   "cell_type": "markdown",
   "id": "35a47229",
   "metadata": {},
   "source": [
    "### Answer"
   ]
  },
  {
   "cell_type": "code",
   "execution_count": 63,
   "id": "f6eb19d6",
   "metadata": {},
   "outputs": [
    {
     "data": {
      "text/plain": [
       "\n",
       "\tOne Sample t-test\n",
       "\n",
       "data:  dataset\n",
       "t = 1.5102, df = 9, p-value = 0.1653\n",
       "alternative hypothesis: true mean is not equal to 10\n",
       "95 percent confidence interval:\n",
       "  9.525956 12.378044\n",
       "sample estimates:\n",
       "mean of x \n",
       "   10.952 \n"
      ]
     },
     "metadata": {},
     "output_type": "display_data"
    }
   ],
   "source": [
    "dataset = c(9.37, 13.04, 11.69, 8.21, 11.18, 10.41, 13.15, 11.51, 13.21, 7.75)\n",
    "t.test(dataset, mu=10)"
   ]
  },
  {
   "cell_type": "markdown",
   "id": "e2bdd6af",
   "metadata": {},
   "source": [
    "Hypothesis: $H_0: \\mu = 10, H_1: \\mu \\neq 10$. Conclusion: Since the p-value is `0.1653` > `0.05` (alpha level), we cannot reject $H_0$ thus we conclude that there is evidence to support the claim.\n",
    "\n",
    "Alternatively, the population mean of `10` lies within the rnage of the `95%` CI, hence there is evidence to support the claim."
   ]
  },
  {
   "cell_type": "markdown",
   "id": "42948438",
   "metadata": {},
   "source": [
    "## Question 8\n",
    "\n",
    "A normally distributed random variable has an unknown mean $\\mu$ and a known variance $\\sigma^2 = 9$. Find the sample size needed to construct a `95%` confidence interval on the mean that has total length of `1` unit."
   ]
  },
  {
   "cell_type": "markdown",
   "id": "e69b014f",
   "metadata": {},
   "source": [
    "### Answer\n",
    "\n",
    "To visualise,\n",
    "\n",
    "```\n",
    "                         mean\n",
    "-1.96 ....0.5 std unit... | ...0.5 std unit.... 1.96\n",
    "```\n",
    "\n",
    "Given that the z-score for `95%` CI is `1.96` or `-1.96`, we can assume that $x - \\mu = 0.5$ for z-score of `1.96`.\n",
    "\n",
    "This gives the following,\n",
    "\n",
    "```\n",
    "1.96 = 0.5 / (sqrt(9) / sqrt(N))\n",
    "1.96 = (0.5 * sqrt(N)) / sqrt(9)\n",
    "sqrt(N) = (1.96 * sqrt(9)) / 0.5\n",
    "N = (1.96 * sqrt(9) / 0.5)^2\n",
    "```\n",
    "\n",
    "To round off the to closest number (ceiling),\n",
    "\n",
    "```\n",
    "N = ceiling(N)\n",
    "```"
   ]
  },
  {
   "cell_type": "code",
   "execution_count": 67,
   "id": "17cd2acd",
   "metadata": {},
   "outputs": [
    {
     "data": {
      "text/html": [
       "139"
      ],
      "text/latex": [
       "139"
      ],
      "text/markdown": [
       "139"
      ],
      "text/plain": [
       "[1] 139"
      ]
     },
     "metadata": {},
     "output_type": "display_data"
    }
   ],
   "source": [
    "ceiling((1.96 * sqrt(9) / 0.5)^2)"
   ]
  },
  {
   "cell_type": "markdown",
   "id": "dda80836",
   "metadata": {},
   "source": [
    "## Question 9\n",
    "\n",
    "The shelf life of a carbonated beverage is of interest. Ten bottles are randomly selected and tested, and the following results are obtained:\n",
    "\n",
    "> 108, 138, 124, 163, 124, 159, 106, 134, 115, 139\n",
    "\n",
    "We would like to demonstrate that the mean shelf life exceeds `120` days. \n",
    "\n",
    "1. Set up appropriate hypotheses for investigating this claim.\n",
    "2. Testing the hypotheses, what are your conclusions?"
   ]
  },
  {
   "cell_type": "markdown",
   "id": "238f0158",
   "metadata": {},
   "source": [
    "### Answer\n",
    "\n",
    "1. Hypothesis: $H_0: \\mu = 120, H_1: \\mu > 120$.\n",
    "\n",
    "To understand the different types of hypothesis testing,\n",
    "\n",
    "<img src=\"https://images.slideplayer.com/24/7038468/slides/slide_7.jpg\" width=\"400\" height=\"auto\" />\n",
    "\n",
    "<img src=\"https://images.slideplayer.com/24/7038468/slides/slide_12.jpg\" width=\"400\" height=\"auto\" />\n",
    "\n",
    "(Source: [Stella Wheeler, 2016](https://slideplayer.com/slide/7038468/))"
   ]
  },
  {
   "cell_type": "code",
   "execution_count": 76,
   "id": "68321852",
   "metadata": {},
   "outputs": [
    {
     "data": {
      "text/plain": [
       "\n",
       "\tOne Sample t-test\n",
       "\n",
       "data:  dataset\n",
       "t = 1.7798, df = 9, p-value = 0.05441\n",
       "alternative hypothesis: true mean is greater than 120\n",
       "95 percent confidence interval:\n",
       " 119.6702      Inf\n",
       "sample estimates:\n",
       "mean of x \n",
       "      131 \n"
      ]
     },
     "metadata": {},
     "output_type": "display_data"
    }
   ],
   "source": [
    "dataset <- c(108, 138, 124, 163, 124, 159, 106, 134, 115, 139)\n",
    "t.test(dataset, mu=120, alternative='greater')"
   ]
  },
  {
   "cell_type": "markdown",
   "id": "27c334fe",
   "metadata": {},
   "source": [
    "2. Since the p-value `0.05441` > `0.05` (alpha level), we cannot reject $H_0$ and thus conclude that there is insufficient evidence to support the claim.\n",
    "\n",
    "Remember the p-value is the total probability value, hence exceeding it indicates that it is not within the rejection region."
   ]
  },
  {
   "cell_type": "code",
   "execution_count": null,
   "id": "e63f3727",
   "metadata": {},
   "outputs": [],
   "source": []
  }
 ],
 "metadata": {
  "kernelspec": {
   "display_name": "R",
   "language": "R",
   "name": "ir"
  },
  "language_info": {
   "codemirror_mode": "r",
   "file_extension": ".r",
   "mimetype": "text/x-r-source",
   "name": "R",
   "pygments_lexer": "r",
   "version": "4.1.0"
  }
 },
 "nbformat": 4,
 "nbformat_minor": 5
}
